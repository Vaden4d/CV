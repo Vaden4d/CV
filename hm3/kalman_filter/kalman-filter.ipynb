{
 "cells": [
  {
   "cell_type": "code",
   "execution_count": 5,
   "metadata": {},
   "outputs": [
    {
     "name": "stdout",
     "output_type": "stream",
     "text": [
      "Collecting pygame\n",
      "\u001b[?25l  Downloading https://files.pythonhosted.org/packages/32/37/453bbb62f90feff2a2b75fc739b674319f5f6a8789d5d21c6d2d7d42face/pygame-1.9.6-cp37-cp37m-macosx_10_11_intel.whl (4.9MB)\n",
      "\u001b[K    100% |████████████████████████████████| 4.9MB 4.4MB/s eta 0:00:01\n",
      "\u001b[?25hInstalling collected packages: pygame\n",
      "Successfully installed pygame-1.9.6\n"
     ]
    }
   ],
   "source": [
    "!pip install pynput"
   ]
  },
  {
   "cell_type": "code",
   "execution_count": 1,
   "metadata": {},
   "outputs": [],
   "source": [
    "from PIL import Image\n",
    "import numpy as np\n",
    "import cv2\n",
    "from time import time, sleep\n",
    "from pynput.mouse import Controller"
   ]
  },
  {
   "cell_type": "code",
   "execution_count": null,
   "metadata": {},
   "outputs": [],
   "source": [
    "cv2.circle()"
   ]
  },
  {
   "cell_type": "code",
   "execution_count": 2,
   "metadata": {},
   "outputs": [],
   "source": [
    "def where_is_mouse(release_time, waiting_time=1e-3):\n",
    "    \n",
    "    mouse = Controller()\n",
    "    start = time()\n",
    "    image = np.zeros((900, 1440, 3), np.uint8)\n",
    "    \n",
    "    l = []\n",
    "    while True:\n",
    "    \n",
    "        l.append(mouse.position)\n",
    "        sleep(waiting_time)\n",
    "        \n",
    "        cv2.circle(image, tuple(np.array(l[-1], dtype=np.int32)), 3, (255, 0, 0))\n",
    "        cv2.imshow(\"Mouse tracking\", image)\n",
    "        k = cv2.waitKey(10) & 0XFF\n",
    "        \n",
    "        if time() - start > release_time:\n",
    "            break\n",
    "            \n",
    "    cv2.destroyAllWindows()"
   ]
  },
  {
   "cell_type": "code",
   "execution_count": 4,
   "metadata": {},
   "outputs": [],
   "source": [
    "class CalmanFilter(object):\n",
    "    \n",
    "    def __init__(self, waiting_time=0.2):\n",
    "        \n",
    "        #self.waiting_time = waiting_time\n",
    "        self.waiting_time = waiting_time\n",
    "        self.shape = (900, 1440, 3)\n",
    "        \n",
    "        self.A = np.array([[1.0, 0.0, 0.2, 0.0],\n",
    "                           [0.0, 1.0, 0.0, 0.2],\n",
    "                           [0.0, 0.0, 1.0, 0.0],\n",
    "                           [0.0, 0.0, 0.0, 1.0]])\n",
    "        \n",
    "        self.B = np.eye(4)\n",
    "        self.H = np.array([[1.0, 0.0, 1.0, 0.0],\n",
    "                           [0.0, 1.0, 0.0, 1.0],\n",
    "                           [0.0, 0.0, 0.0, 0.0],\n",
    "                           [0.0, 0.0, 0.0, 0.0]])\n",
    "        \n",
    "        self.Q = np.array([[0.0, 0.0, 0.0, 0.0],\n",
    "                           [0.0, 0.0, 0.0, 0.0],\n",
    "                           [0.0, 0.0, 0.1, 0.0],\n",
    "                           [0.0, 0.0, 0.0, 0.1]])\n",
    "        \n",
    "        self.R = 0.1 * np.eye(4)\n",
    "        \n",
    "        self.P = np.zeros((4, 4))\n",
    "        self.x = np.zeros(4)\n",
    "        \n",
    "        self.mouse = Controller()\n",
    "        \n",
    "        self.measurements = []\n",
    "        self.predictions = []\n",
    "        \n",
    "    def measure(self):\n",
    "        \n",
    "        position_x, position_y = self.mouse.position\n",
    "        \n",
    "        try:\n",
    "            velocity_x = (position_x - self.predictions[-1][0]) / self.waiting_time\n",
    "            velocity_y = (position_y - self.predictions[-1][1]) / self.waiting_time\n",
    "        except IndexError:\n",
    "            velocity_x = 0\n",
    "            velocity_y = 0\n",
    "        \n",
    "        self.measurements.append(np.array([position_x,\n",
    "                                          position_y,\n",
    "                                          velocity_x,\n",
    "                                          velocity_y]))\n",
    "        \n",
    "        return self.measurements[-1]\n",
    "    \n",
    "    def predict(self):\n",
    "        \n",
    "        self.x = self.A @ self.x\n",
    "        self.P = self.A @ self.P @ self.A.transpose() + self.Q\n",
    "        \n",
    "        return self.x\n",
    "        \n",
    "    def correct(self):\n",
    "        \n",
    "        S = self.H @ self.P @ self.H.transpose() + self.R\n",
    "        K = self.P @ self.H @ np.linalg.inv(S)\n",
    "        y = self.measurements[-1] - self.H @ self.x\n",
    "        \n",
    "        self.x = self.x + K @ y\n",
    "        self.P = (np.eye(4) - K @ self.H) @ self.P\n",
    "        \n",
    "        self.predictions.append(self.x)\n",
    "        \n",
    "    def mouse_tracking(self, release_time):\n",
    "    \n",
    "        start = time()\n",
    "        image = np.zeros(self.shape, np.uint8)\n",
    "        \n",
    "        while True:\n",
    "            \n",
    "            self.measure()\n",
    "            self.predict()\n",
    "            self.correct()\n",
    "            \n",
    "            sleep(self.waiting_time)\n",
    "            \n",
    "            real_values = tuple(self.measurements[-1][:2].astype(np.int32))\n",
    "            predicted_values = tuple(self.predictions[-1][:2].astype(np.int32))\n",
    "            \n",
    "            cv2.circle(image, real_values, 3, (255, 0, 0))\n",
    "            cv2.circle(image, predicted_values, 3, (0, 255, 0))\n",
    "            cv2.imshow(\"Mouse tracking\", image)\n",
    "            k = cv2.waitKey(10) & 0XFF\n",
    "\n",
    "            if time() - start > release_time:\n",
    "                break\n",
    "            \n",
    "        cv2.destroyAllWindows()"
   ]
  },
  {
   "cell_type": "code",
   "execution_count": 5,
   "metadata": {},
   "outputs": [],
   "source": [
    "obj = CalmanFilter()\n",
    "obj.mouse_tracking(20)"
   ]
  },
  {
   "cell_type": "code",
   "execution_count": 6,
   "metadata": {},
   "outputs": [],
   "source": [
    "where_is_mouse(10)"
   ]
  },
  {
   "cell_type": "code",
   "execution_count": 56,
   "metadata": {},
   "outputs": [
    {
     "data": {
      "image/png": "[encoded data removed]",
      "text/plain": [
       "<PIL.Image.Image image mode=RGB size=1440x900 at 0x1212F2320>"
      ]
     },
     "execution_count": 56,
     "metadata": {},
     "output_type": "execute_result"
    }
   ],
   "source": [
    "Image.fromarray(img)"
   ]
  },
  {
   "cell_type": "code",
   "execution_count": null,
   "metadata": {},
   "outputs": [],
   "source": [
    "Controller()"
   ]
  },
  {
   "cell_type": "code",
   "execution_count": 23,
   "metadata": {},
   "outputs": [
    {
     "name": "stdout",
     "output_type": "stream",
     "text": [
      "The current pointer position is (1214.265625, 643.86328125)\n",
      "Now we have moved it to (1214.265625, 643.86328125)\n"
     ]
    }
   ],
   "source": [
    "from pynput.mouse import Button, Controller\n",
    "\n",
    "mouse = Controller()\n",
    "\n",
    "# Read pointer position\n",
    "print('The current pointer position is {0}'.format(\n",
    "    mouse.position))\n",
    "\n",
    "# Set pointer position\n",
    "mouse.position = (10, 20)\n",
    "print('Now we have moved it to {0}'.format(\n",
    "    mouse.position))\n",
    "\n",
    "# Move pointer relative to current position\n",
    "mouse.move(5, -5)\n",
    "\n",
    "# Press and release\n",
    "mouse.press(Button.left)\n",
    "mouse.release(Button.left)\n",
    "\n",
    "# Double click; this is different from pressing and releasing\n",
    "# twice on Mac OSX\n",
    "mouse.click(Button.left, 2)\n",
    "\n",
    "# Scroll two steps down\n",
    "mouse.scroll(0, 2)"
   ]
  },
  {
   "cell_type": "code",
   "execution_count": null,
   "metadata": {},
   "outputs": [],
   "source": []
  }
 ],
 "metadata": {
  "kernelspec": {
   "display_name": "Python 3",
   "language": "python",
   "name": "python3"
  },
  "language_info": {
   "codemirror_mode": {
    "name": "ipython",
    "version": 3
   },
   "file_extension": ".py",
   "mimetype": "text/x-python",
   "name": "python",
   "nbconvert_exporter": "python",
   "pygments_lexer": "ipython3",
   "version": "3.7.2"
  }
 },
 "nbformat": 4,
 "nbformat_minor": 2
}
